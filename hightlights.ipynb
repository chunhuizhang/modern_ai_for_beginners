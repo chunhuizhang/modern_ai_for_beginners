{
 "cells": [
  {
   "cell_type": "markdown",
   "id": "41c3a8ea-7b32-4e56-98b8-c234f18fe9a4",
   "metadata": {},
   "source": [
    "### probability & statistics"
   ]
  },
  {
   "cell_type": "markdown",
   "id": "46286ff7-87f4-4041-a1b9-707b677097cb",
   "metadata": {},
   "source": [
    "- Probability modeling（概率建模）\n",
    "    - LM、reward model、以及 diffusion 底层本质上都是概率建模；\n",
    "    - MLE\n",
    "- Bayesian\n",
    "- Monte Carlo methods\n",
    "    - MCMC（Metropolis Hastings）\n",
    "- statistic inference（统计推断）\n",
    "    - ELBO\n",
    "    - EM"
   ]
  }
 ],
 "metadata": {
  "kernelspec": {
   "display_name": "Python 3 (ipykernel)",
   "language": "python",
   "name": "python3"
  },
  "language_info": {
   "codemirror_mode": {
    "name": "ipython",
    "version": 3
   },
   "file_extension": ".py",
   "mimetype": "text/x-python",
   "name": "python",
   "nbconvert_exporter": "python",
   "pygments_lexer": "ipython3",
   "version": "3.10.13"
  }
 },
 "nbformat": 4,
 "nbformat_minor": 5
}
