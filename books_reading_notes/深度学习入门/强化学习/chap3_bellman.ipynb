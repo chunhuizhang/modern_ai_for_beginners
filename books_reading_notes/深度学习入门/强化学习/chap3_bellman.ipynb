{
 "cells": [
  {
   "cell_type": "code",
   "execution_count": 1,
   "id": "14c186d0-4c99-4ebd-80fb-406c3d50b68d",
   "metadata": {
    "execution": {
     "iopub.execute_input": "2025-01-05T09:45:58.018303Z",
     "iopub.status.busy": "2025-01-05T09:45:58.017898Z",
     "iopub.status.idle": "2025-01-05T09:45:58.027703Z",
     "shell.execute_reply": "2025-01-05T09:45:58.025919Z",
     "shell.execute_reply.started": "2025-01-05T09:45:58.018269Z"
    }
   },
   "outputs": [],
   "source": [
    "from IPython.display import Image"
   ]
  },
  {
   "cell_type": "markdown",
   "id": "432cf90b-9c6e-4e5f-bd60-7e456da5eda3",
   "metadata": {},
   "source": [
    "### 从概率到期望（值, expected value）"
   ]
  },
  {
   "cell_type": "markdown",
   "id": "849bf56f-1d52-4b06-a368-ca3c43cb2101",
   "metadata": {},
   "source": [
    "$$\n",
    "\\mathbb E[x]=\\sum_x xp(x)\n",
    "$$\n",
    "\n",
    "- 骰子的期望值：$\\frac{1+2+3+4+5+6}6=\\frac{21}6=3.5$"
   ]
  },
  {
   "cell_type": "code",
   "execution_count": 3,
   "id": "e172200e-d798-427e-9617-8e5fbaf97b44",
   "metadata": {
    "execution": {
     "iopub.execute_input": "2025-01-05T09:46:59.225618Z",
     "iopub.status.busy": "2025-01-05T09:46:59.225034Z",
     "iopub.status.idle": "2025-01-05T09:46:59.237339Z",
     "shell.execute_reply": "2025-01-05T09:46:59.235512Z",
     "shell.execute_reply.started": "2025-01-05T09:46:59.225569Z"
    }
   },
   "outputs": [
    {
     "data": {
      "text/html": [
       "<img src=\"./figs/stochastic_tree.png\" width=\"400\"/>"
      ],
      "text/plain": [
       "<IPython.core.display.Image object>"
      ]
     },
     "execution_count": 3,
     "metadata": {},
     "output_type": "execute_result"
    }
   ],
   "source": [
    "# 普通硬币：50% vs. 50%\n",
    "# 更容易出现正面的硬币：80% vs. 20%\n",
    "Image(url='./figs/stochastic_tree.png', width=400)"
   ]
  },
  {
   "cell_type": "code",
   "execution_count": 4,
   "id": "15c21a96-78cd-4e9c-9829-8c03ab21435d",
   "metadata": {
    "execution": {
     "iopub.execute_input": "2025-01-05T09:47:57.968161Z",
     "iopub.status.busy": "2025-01-05T09:47:57.967593Z",
     "iopub.status.idle": "2025-01-05T09:47:57.980771Z",
     "shell.execute_reply": "2025-01-05T09:47:57.978734Z",
     "shell.execute_reply.started": "2025-01-05T09:47:57.968113Z"
    }
   },
   "outputs": [
    {
     "data": {
      "text/plain": [
       "2.35"
      ]
     },
     "execution_count": 4,
     "metadata": {},
     "output_type": "execute_result"
    }
   ],
   "source": [
    "1/6*(1*0.5 + 3*0.5 + 5*0.5) + 1/6 * (2*0.8 + 4 * 0.8 + 6 * 0.8)"
   ]
  },
  {
   "cell_type": "markdown",
   "id": "2638bdcf-97dd-4599-83af-420d446f5292",
   "metadata": {},
   "source": [
    "- $x$ 是掷骰子的结果（outcome，$\\{1,2,3,4,5,6\\}$），$y$ 是抛硬币的结果（outcome，$\\{正,反\\}$）\n",
    "    - 上文的环境，硬币正面的概率是可变的，是 conditional 的，$p(y|x)$\n",
    "    - $p(y=H|x=\\{2,4,6\\})=0.8$\n",
    "    - $p(y=H|x=\\{1,3,5\\})=0.5$\n",
    "- $x$ 与 $y$ 同时发生的概率称为联合概率（joint probability）\n",
    "    - $p(x,y)=p(x)p(y|x)$\n",
    "- 对于奖励 reward，$\\{x,y\\}$ 确定之后唯一确定，记为 $r(x,y)$\n",
    "- 奖励的期望：\n",
    "\n",
    "$$\n",
    "\\begin{split}\n",
    "\\mathbb E[r(x,y)]&=\\sum_x\\sum_y p(x,y)r(x,y)\\\\\n",
    "&=\\sum_x\\sum_yp(x)p(y|x)r(x,y)\n",
    "\\end{split}\n",
    "$$"
   ]
  },
  {
   "cell_type": "markdown",
   "id": "ac50bb0e-bc12-4f98-a5a3-65cc4d29616b",
   "metadata": {},
   "source": [
    "### Bellman equation 的推导"
   ]
  },
  {
   "cell_type": "markdown",
   "id": "973cec7a-8ad7-43e8-b760-9e29247b9fb9",
   "metadata": {},
   "source": [
    "- 收益（return，回报）的定义\n",
    "    - $G_t=R_t+\\gamma R_{t+1}+\\gamma^2 R_{t+2}+\\cdots$\n",
    "    - 收益 $G_t$ 是从时刻 $t$ 之后获得的奖励（reward）的总和，由于有折现率 $\\gamma$ 的存在（未来时刻的奖励折现），未来时刻获得的奖励呈指数级下降；\n",
    "    - 现在来简单推导 $G_t$ 与 $G_{t+1}$ 的关系\n",
    "\n",
    "$$\n",
    "\\begin{split}\n",
    "G_t&=R_t+\\gamma R_{t+1}+\\gamma^2R_{t+2}+\\gamma^3R_{t+3}+\\cdots\\\\\n",
    "&=R_t+\\gamma(R_{t+1}+\\gamma R_{t+2}+\\gamma^2R_{t+3}+\\cdots)\\\\\n",
    "&=R_t+\\gamma G_{t+1}\n",
    "\\end{split}\n",
    "$$\n",
    "\n",
    "- 状态价值函数是收益的期望值（$E[X+Y]=E[X]+E[Y]$）；\n",
    "\n",
    "$$\n",
    "\\begin{split}\n",
    "v_\\pi(s)&=\\mathbb E_\\pi[G_t|S_t=s]\\\\\n",
    "&=\\mathbb E_\\pi[R_t+\\gamma G_{t+1}|S_t=s]\\\\\n",
    "&=\\mathbb E_\\pi[R_t|S_t=s] + \\gamma \\mathbb E_\\pi[G_{t+1}|S_t=s]\n",
    "\\end{split}\n",
    "$$"
   ]
  },
  {
   "cell_type": "markdown",
   "id": "49957fd6-dbd0-472a-ac8f-c5a90e0d1647",
   "metadata": {},
   "source": [
    "- 我们来看左边这一项，$R_t$ 奖励的期望\n",
    "\n",
    "$$\n",
    "\\begin{split}\n",
    "\\mathbb E_\\pi[R_t|S_t=s]&=\\sum_a\\sum_{s'} \\pi(a|s)p(s'|s,a)r(s,a,s')\\\\\n",
    "&=\\sum_{a,s'}\\pi(a|s)p(s'|s,a)r(s,a,s')\n",
    "\\end{split}\n",
    "$$\n",
    "\n",
    "- 再来看右边那一项，即 $G_{t+1}$ 收益的期望（$\\mathbb E_\\pi[G_{t+1}|S_t=s]$）\n",
    "    - $v_\\pi(s)=\\mathbb E_\\pi[G_t|S_t=s]$\n",
    "    - $v_\\pi(s)=\\mathbb E_\\pi[G_{t+1}|S_{t+1}=s]$\n",
    "    - 现在的问题是如何将条件 $S_{t}=s$ 变换为 $S_{t+1}=s$：往前走一步\n",
    "\n",
    "$$\n",
    "\\begin{split}\n",
    "\\mathbb E_\\pi[G_{t+1}|S_t=s]&=\\sum_{a,s'}\\pi(a|s)p(s'|s,a)\\mathbb E_\\pi[G_{t+1}|S_{t+1}=s']\\\\\n",
    "&=\\sum_{a,s'}\\pi(a|s)p(s'|s,a)v_\\pi(s')\n",
    "\\end{split}\n",
    "$$\n",
    "\n",
    "- 现在将两项合并得到贝尔曼方程：\n",
    "\n",
    "$$\n",
    "\\begin{split}\n",
    "v_\\pi(s)&=\\mathbb E_\\pi[R_t|S_t=s]+\\gamma\\mathbb E_\\pi[G_{t+1}|S_t=s]\\\\\n",
    "&=\\sum_{a,s'}\\pi(a|s)p(s'|s,a)r(s,a,s')+\\gamma\\sum_{a,s'}\\pi(a|s)p(s'|s,a)v_\\pi(s')\\\\\n",
    "&=\\sum_{a,s'}\\pi(a|s)p(s'|s,a)\\left(r(s,a,s')+\\gamma v_\\pi(s')\\right)\n",
    "\\end{split}\n",
    "$$\n",
    "\n",
    "- 贝尔曼方程刻画的是状态 $s$ 的价值函数与下一个可能的状态 $s'$ 的价值函数之间关系；\n",
    "    - 对所有状态 $s$ 和所有策略 $\\pi$ 都成立"
   ]
  },
  {
   "cell_type": "markdown",
   "id": "e93c02a8-f5e1-4381-9e7f-19f3f86c8f19",
   "metadata": {},
   "source": [
    "### 一个示例"
   ]
  },
  {
   "cell_type": "code",
   "execution_count": null,
   "id": "cbec321b-270b-4c29-b3bf-13a5d57266b3",
   "metadata": {},
   "outputs": [],
   "source": []
  }
 ],
 "metadata": {
  "kernelspec": {
   "display_name": "Python 3 (ipykernel)",
   "language": "python",
   "name": "python3"
  },
  "language_info": {
   "codemirror_mode": {
    "name": "ipython",
    "version": 3
   },
   "file_extension": ".py",
   "mimetype": "text/x-python",
   "name": "python",
   "nbconvert_exporter": "python",
   "pygments_lexer": "ipython3",
   "version": "3.10.13"
  }
 },
 "nbformat": 4,
 "nbformat_minor": 5
}
