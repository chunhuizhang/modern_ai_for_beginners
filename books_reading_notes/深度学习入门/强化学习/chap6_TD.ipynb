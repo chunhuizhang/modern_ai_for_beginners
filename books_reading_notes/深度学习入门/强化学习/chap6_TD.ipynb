{
 "cells": [
  {
   "cell_type": "markdown",
   "id": "82c711f5-2256-45ad-b17c-ed62a84bcaf6",
   "metadata": {},
   "source": [
    "- TD: 时间差分，不需要等待回合的结束，没过一定的时间就可以进行策略的评估和改进（MC 需要达到回合的终点时更新价值函数）\n",
    "- TD 是 MC 和 DP 方法的结合"
   ]
  },
  {
   "cell_type": "markdown",
   "id": "784c91d6-3462-49a4-8932-d1d37aff5868",
   "metadata": {},
   "source": [
    "- 收益（return）\n",
    "\n",
    "$$\n",
    "\\begin{split}\n",
    "G_t&=R_t+\\gamma R_{t+1}+\\gamma^2G_{t+2}+\\cdots\\\\\n",
    "&=R_t+\\gamma G_{t+1}\n",
    "\\end{split}\n",
    "$$\n",
    "- 价值函数 $v_\\pi(s)$ 的定义\n",
    "\n",
    "$$\n",
    "\\begin{split}\n",
    "v_\\pi(s)&=\\mathbb E_\\pi[G_t|S_t=s]\\\\\n",
    "&=\\mathbb E_\\pi[R_t+\\gamma G_{t+1}|S_t=s]\n",
    "\\end{split}\n",
    "$$\n",
    "\n",
    "- 基于 MC\n",
    "\n",
    "$$\n",
    "V_\\pi(S_t)+=\\alpha (G_t-V_\\pi(S_t))\n",
    "$$\n",
    "\n",
    "- 基于 DP\n",
    "\n",
    "$$\n",
    "\\begin{split}\n",
    "v_\\pi(s)&=\\mathbb E_\\pi[R_t+\\gamma G_{t+1}|S_t=s]\\\\\n",
    "&=\\sum_{a,s'}\\pi(a|s)p(s'|s,a)[r(s,a,s')+\\gamma v_\\pi(s')]\n",
    "\\end{split}\n",
    "$$\n",
    "进一步\n",
    "$$\n",
    "V'_\\pi(s)=\\sum_{a,s'}\\pi(a|s)p(s'|a,s)[r(s,a,s')+\\gamma V_\\pi(s')]\n",
    "$$"
   ]
  }
 ],
 "metadata": {
  "kernelspec": {
   "display_name": "verl",
   "language": "python",
   "name": "verl"
  },
  "language_info": {
   "codemirror_mode": {
    "name": "ipython",
    "version": 3
   },
   "file_extension": ".py",
   "mimetype": "text/x-python",
   "name": "python",
   "nbconvert_exporter": "python",
   "pygments_lexer": "ipython3",
   "version": "3.9.0"
  }
 },
 "nbformat": 4,
 "nbformat_minor": 5
}
