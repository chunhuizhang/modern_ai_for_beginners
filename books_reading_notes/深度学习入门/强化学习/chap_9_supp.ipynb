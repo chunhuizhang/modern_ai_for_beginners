{
 "cells": [
  {
   "cell_type": "markdown",
   "id": "2380c2c6-48a3-40fa-802b-7fd76f39b4a6",
   "metadata": {},
   "source": [
    "## Advantage & GAE"
   ]
  },
  {
   "cell_type": "markdown",
   "id": "77a8c892-5048-45b9-8fb1-ab502204defd",
   "metadata": {},
   "source": [
    "- $A_t$ is the advantage, which is computed by applying Generalized Advantage Estimation (GAE)\n",
    "    - based on the rewards ($r_{\\geq t}$) ($r_\\phi$) and a **learned value function** $V_\\psi$\n",
    "    - Thus, in PPO, a **value function** needs to be trained alongside the policy model and to mitigate over-optimization of the reward model, the standard approach is to add a **per-token KL penalty** from a reference model in the reward at each token (Ouyang et al., 2022), i.e.,\n",
    "\n",
    "$$\n",
    "r_t=r_\\phi(q,o_{\\leq t})-\\beta \\log \\frac{\\pi_\\theta(o_t|q,o_{\\lt t})}{\\pi_{ref}(o_t|q,o_{\\lt t})}\n",
    "$$\n",
    "\n",
    "\n",
    "- GAE\n",
    "    - 一般 Advantage Estimate（单步TD残差），使用单步时序差分（TD）误差估计优势：\n",
    "        - $A(s_t,a_t)=r_t+\\gamma V(s_{t+1})-V(s_t)$\n",
    "    - GAE 通过多步TD残差的加权平均估计优势：\n",
    "        - $A^{GAE(\\lambda, \\gamma)}(s_t,a_t)=\\sum_{k=0}^\\infty (\\gamma\\lambda)^k\\delta_{t+k}$\n",
    "            - $\\delta_t=r_t+\\gamma V(s_{t+1})-V(s_t)$\n",
    "         \n",
    "```\n",
    "# ae\n",
    "advantages = rewards + gamma * next_values - values\n",
    "\n",
    "# gae\n",
    "advantages = []\n",
    "gae = 0\n",
    "for t in reversed(range(len(rewards))):\n",
    "    delta = rewards[t] + gamma * next_values[t] - values[t]\n",
    "    gae = delta + gamma * lambda * gae\n",
    "    advantages.insert(0, gae)\n",
    "```"
   ]
  }
 ],
 "metadata": {
  "kernelspec": {
   "display_name": "Python 3 (ipykernel)",
   "language": "python",
   "name": "python3"
  },
  "language_info": {
   "codemirror_mode": {
    "name": "ipython",
    "version": 3
   },
   "file_extension": ".py",
   "mimetype": "text/x-python",
   "name": "python",
   "nbconvert_exporter": "python",
   "pygments_lexer": "ipython3",
   "version": "3.10.13"
  }
 },
 "nbformat": 4,
 "nbformat_minor": 5
}
