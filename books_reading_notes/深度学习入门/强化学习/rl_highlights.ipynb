{
 "cells": [
  {
   "cell_type": "markdown",
   "id": "104b6621-bac1-4763-981d-01b08a25859e",
   "metadata": {},
   "source": [
    "- bandit\n",
    "- MDP\n",
    "- value-based methods vs. policy-based methods\n",
    "    - value-based methods\n",
    "        - Q-learning\n",
    "        - SARSA\n",
    "    - policy-based methods\n",
    "        - policy gradient: (DRL, 通过神经网络将策略 Policy 模型化)\n",
    "            - 最简单的 REINFORCE\n",
    "            - REINFORCE with baseline\n",
    "            - actor-critic"
   ]
  }
 ],
 "metadata": {
  "kernelspec": {
   "display_name": "Python 3 (ipykernel)",
   "language": "python",
   "name": "python3"
  },
  "language_info": {
   "codemirror_mode": {
    "name": "ipython",
    "version": 3
   },
   "file_extension": ".py",
   "mimetype": "text/x-python",
   "name": "python",
   "nbconvert_exporter": "python",
   "pygments_lexer": "ipython3",
   "version": "3.10.13"
  }
 },
 "nbformat": 4,
 "nbformat_minor": 5
}
