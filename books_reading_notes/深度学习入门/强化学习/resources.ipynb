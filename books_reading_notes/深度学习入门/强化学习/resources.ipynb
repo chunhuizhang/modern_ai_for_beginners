{
 "cells": [
  {
   "cell_type": "markdown",
   "id": "b12e0aaf-d61a-45fd-aa4d-54c781161011",
   "metadata": {},
   "source": [
    "- from scartch：从0开始\n",
    "- git@github.com:oreilly-japan/deep-learning-from-scratch-4.git"
   ]
  }
 ],
 "metadata": {
  "kernelspec": {
   "display_name": "Python 3 (ipykernel)",
   "language": "python",
   "name": "python3"
  },
  "language_info": {
   "codemirror_mode": {
    "name": "ipython",
    "version": 3
   },
   "file_extension": ".py",
   "mimetype": "text/x-python",
   "name": "python",
   "nbconvert_exporter": "python",
   "pygments_lexer": "ipython3",
   "version": "3.10.13"
  }
 },
 "nbformat": 4,
 "nbformat_minor": 5
}
