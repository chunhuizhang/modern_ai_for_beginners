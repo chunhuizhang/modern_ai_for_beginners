{
 "cells": [
  {
   "cell_type": "code",
   "execution_count": 15,
   "id": "0c7afe6a-5bcb-42c3-bf52-f694a5454e32",
   "metadata": {
    "execution": {
     "iopub.execute_input": "2025-01-30T13:39:13.659560Z",
     "iopub.status.busy": "2025-01-30T13:39:13.659134Z",
     "iopub.status.idle": "2025-01-30T13:39:13.667229Z",
     "shell.execute_reply": "2025-01-30T13:39:13.665045Z",
     "shell.execute_reply.started": "2025-01-30T13:39:13.659536Z"
    }
   },
   "outputs": [],
   "source": [
    "from IPython.display import Image"
   ]
  },
  {
   "cell_type": "markdown",
   "id": "40fbc229-cd3a-4bf5-b595-d7984b526669",
   "metadata": {},
   "source": [
    "## value-based vs. policy-based"
   ]
  },
  {
   "cell_type": "markdown",
   "id": "6794ee95-5598-4e40-a99c-53ede0533208",
   "metadata": {},
   "source": [
    "> 二者的本质差异是 action 从哪里来；\n",
    "\n",
    "- value-based learning\n",
    "    - \"价值\"行动价值函数 ($Q(s,a)$ 函数)和状态价值函数（$V(s)$）；\n",
    "    - 由这些函数导出动作：$\\pi(s)=\\arg\\max_a Q(s,a)$\n",
    "- policy-based\n",
    "    - $\\pi_\\theta(a_t|s_t)$\n",
    "    - 神经网络对policy参数化（parameterized），并使用梯度来优化策略的方法叫做策略梯度法（policy gradient）\n",
    "    - 策略梯度法是使用梯度来更新策略的方法的总称；"
   ]
  },
  {
   "cell_type": "markdown",
   "id": "f604e628-5793-4613-aea9-1022158aee52",
   "metadata": {},
   "source": [
    "## REINFORCE"
   ]
  },
  {
   "cell_type": "markdown",
   "id": "1e53c044-46dc-4956-a136-c8451a87e1cc",
   "metadata": {},
   "source": [
    "https://www.cs.toronto.edu/~tingwuwang/REINFORCE.pdf"
   ]
  },
  {
   "cell_type": "code",
   "execution_count": 4,
   "id": "4652f7ac-4ad6-45fe-9968-5f4cdebfbdcd",
   "metadata": {
    "execution": {
     "iopub.execute_input": "2025-01-29T09:58:20.233864Z",
     "iopub.status.busy": "2025-01-29T09:58:20.233295Z",
     "iopub.status.idle": "2025-01-29T09:58:20.244681Z",
     "shell.execute_reply": "2025-01-29T09:58:20.242872Z",
     "shell.execute_reply.started": "2025-01-29T09:58:20.233815Z"
    }
   },
   "outputs": [
    {
     "data": {
      "text/html": [
       "<img src=\"./figs/reinforce.png\" width=\"400\"/>"
      ],
      "text/plain": [
       "<IPython.core.display.Image object>"
      ]
     },
     "execution_count": 4,
     "metadata": {},
     "output_type": "execute_result"
    }
   ],
   "source": [
    "# https://www.youtube.com/watch?v=5eSh5F8gjWU\n",
    "Image(url='./figs/reinforce.png', width=400)"
   ]
  },
  {
   "cell_type": "markdown",
   "id": "e06282d3-baa4-4559-8eab-20e8c39919b6",
   "metadata": {},
   "source": [
    "\n",
    "> if agent selects an action (given state) that results in good outcome, then it should take that action more offen in the future. 也即是说这些 actions 能带来高 rewards 的 actions 应该被加强（REINFORCE）\n",
    "\n",
    "- 基于神经网络（将策略模型化）的策略表示为 $\\pi_\\theta(a|s)$\n",
    "- 考虑回合制任务，并基于策略 $\\pi_\\theta$ 选择行动\n",
    "    - $\\tau=(S_0,A_0,R_0,S_1,A_1,R_1,\\cdots),S_{T+1}$（trajectory，轨迹）\n",
    "        - rollout the policy and collect an episode;\n",
    "    - 使用折现率 $\\gamma$ 对收益 return\n",
    "        - $G(\\tau)=R_0+\\gamma R_1+\\gamma^2R_2+\\cdots+\\gamma^TR_T$\n",
    "- 此时目标函数 $J(\\theta)$（最大化）表示为：$J(\\theta)=\\mathbb E_{\\tau\\sim \\pi_\\theta}[G(\\tau)]$\n",
    "    - 期望的下标 $\\tau\\sim \\pi_\\theta$，表示 $\\tau$ 是基于 $\\pi_\\theta$ 生成的；\n",
    "    - 当然 $\\tau$ 的生成除了跟 agent 的 $\\pi_\\theta$ 有关，还与环境 $p(s'|s,a)$ 和 $r(s,a,s')$ 有关；$p(s'|s,a)$、$r(s,a,s')$ 主要是跟环境有关，我们能控制的只有 $\\pi_\\theta$ 只有智能体的策略；\n",
    "    - L = -log(π(a|s)) * G\n",
    "        - 通过回报 $G$ 调整梯度更新幅度，鼓励高回报动作的概率。\n",
    "        - $\\nabla_\\theta L\\propto -\\nabla_\\theta\\log\\pi_\\theta(a|s)\\cdot G $\n",
    "        - 梯度由回报 $G$ 加权，调整策略参数以增加高回报动作的概率：\n",
    "        - 更新方向依赖 $G$，可能引入高方差（需基线方法 baseline 或优势函数 advantage 优化）。\n",
    "- $\\nabla_\\theta J(\\theta)=\\nabla_\\theta\\mathbb E_{\\tau\\sim\\pi_\\theta}[G(\\tau)]=\\mathbb E_{\\tau\\sim\\pi_\\theta}[\\sum_{t=0}^TG(\\tau)\\nabla_\\theta\\log\\pi_\\theta(A_t|S_t)]$"
   ]
  },
  {
   "cell_type": "code",
   "execution_count": null,
   "id": "8d6d916e-249e-4ba4-973e-5aa39eeed854",
   "metadata": {},
   "outputs": [],
   "source": [
    "# positive advantage will make that action more likely in the future, for that state\n",
    "# negative advantage will make that action less likely in the future, for that state\n",
    "Image(url='./figs/sl_vs_rl.png', width=400)"
   ]
  },
  {
   "cell_type": "code",
   "execution_count": 14,
   "id": "2545d7ee-a461-4dde-98be-0446dfd464ea",
   "metadata": {
    "execution": {
     "iopub.execute_input": "2025-01-30T13:38:53.573658Z",
     "iopub.status.busy": "2025-01-30T13:38:53.573038Z",
     "iopub.status.idle": "2025-01-30T13:38:54.522607Z",
     "shell.execute_reply": "2025-01-30T13:38:54.520769Z",
     "shell.execute_reply.started": "2025-01-30T13:38:53.573607Z"
    }
   },
   "outputs": [
    {
     "name": "stdout",
     "output_type": "stream",
     "text": [
      "初始概率: [0.5 0.5]\n",
      "更新前theta: [0. 0.]\n",
      "更新后theta: [ 0.1 -0.1]\n",
      "更新后概率: [0.549834 0.450166]\n"
     ]
    },
    {
     "data": {
      "text/plain": [
       "<matplotlib.legend.Legend at 0x7b21607098d0>"
      ]
     },
     "execution_count": 14,
     "metadata": {},
     "output_type": "execute_result"
    },
    {
     "data": {
      "image/png": "[encoded data removed]",
      "text/plain": [
       "<Figure size 640x480 with 1 Axes>"
      ]
     },
     "metadata": {},
     "output_type": "display_data"
    }
   ],
   "source": [
    "import numpy as np\n",
    "import matplotlib.pyplot as plt\n",
    "\n",
    "# ---- 1. 初始化策略参数和softmax函数 ----\n",
    "def softmax(logits):\n",
    "    e = np.exp(logits)\n",
    "    return e / np.sum(e)\n",
    "\n",
    "theta = np.array([0.0, 0.0])     # 两维参数，对应两个动作\n",
    "lr = 0.1                        # 学习率\n",
    "\n",
    "def policy(theta):\n",
    "    \"\"\" 返回动作0和动作1的概率 \"\"\"\n",
    "    return softmax(theta)\n",
    "\n",
    "# 计算初始动作概率\n",
    "p_init = policy(theta)\n",
    "print(\"初始概率:\", p_init)\n",
    "\n",
    "# ---- 2. 假设采样到了动作 a=0，并且已知 Advantage(0) > 0，Advantage(1) < 0 ----\n",
    "A = np.array([+1.0, -1.0])   # 这里仅做演示，表示动作0好过基准，动作1差过基准\n",
    "\n",
    "# ---- 3. 简单地构造梯度并进行一次更新 ----\n",
    "# 一个常见做法：对每个选过的动作，用 A * ∇log(pi(动作)) 更新；对于未选动作这里简化处理。\n",
    "# 为了演示，我们做一个“全量”版本的近似：Δtheta = A * ∂log pi/∂theta\n",
    "\n",
    "def grad_log_pi(theta):\n",
    "    \"\"\"\n",
    "    返回梯度向量 [grad w.r.t theta[0], grad w.r.t theta[1]] \n",
    "    这里我们“批量”地返回对动作0和1分别的 log pi 的梯度近似：\n",
    "      ∂/∂θ_j (log pi(a|θ)) = 1_{a=j} - pi(a|θ)\n",
    "    但为了演示把它们放到一起考虑\n",
    "    \"\"\"\n",
    "    p = softmax(theta)\n",
    "    # grad(a=0) = [1 - p(0), 0 - p(1)]\n",
    "    grad0 = np.array([1 - p[0],      - p[1]])\n",
    "    # grad(a=1) = np.array([ -p[0], 1 - p[1] ])\n",
    "    grad1 = np.array([   -p[0], 1 - p[1] ])\n",
    "    return np.vstack((grad0, grad1))  # shape (2,2)\n",
    "\n",
    "g = grad_log_pi(theta)\n",
    "# 对应到每个动作各自的 advantage，我这里只做一个简单合并，用 A[i]*g[i] 的方式“累加”\n",
    "grad = A[0] * g[0] + A[1] * g[1]\n",
    "\n",
    "theta_new = theta + lr * grad\n",
    "\n",
    "print(\"更新前theta:\", theta)\n",
    "print(\"更新后theta:\", theta_new)\n",
    "\n",
    "p_new = policy(theta_new)\n",
    "print(\"更新后概率:\", p_new)\n",
    "\n",
    "# ---- 4. 对比更新前后的概率分布 ----\n",
    "fig, ax = plt.subplots()\n",
    "bar_width = 0.3\n",
    "\n",
    "ax.bar([0,1], p_init, width=bar_width, label='Before Update', alpha=0.6)\n",
    "ax.bar([0+bar_width,1+bar_width], p_new, width=bar_width, label='After Update', alpha=0.6)\n",
    "ax.set_xticks([0+bar_width/2,1+bar_width/2])\n",
    "ax.set_xticklabels(['Action 0','Action 1'])\n",
    "ax.set_ylim(0,1.0)\n",
    "ax.set_ylabel('Probability')\n",
    "ax.set_title('Policy Distribution Before and After One Gradient Update')\n",
    "ax.legend()"
   ]
  },
  {
   "cell_type": "markdown",
   "id": "0060a86f-bee5-4773-b2bd-cc4212428d16",
   "metadata": {},
   "source": [
    "### $\\log\\pi_\\theta(A_t|S_t)$ 与 $\\nabla_\\theta\\log\\pi_\\theta(A_t|S_t)$"
   ]
  },
  {
   "cell_type": "markdown",
   "id": "f8a348d2-20af-4af6-8ed2-06b1e0dfe4bf",
   "metadata": {},
   "source": [
    "- 对数概率，为了简化计算；\n",
    "    - $\\nabla_\\theta\\pi=\\pi\\nabla_\\theta\\log\\pi$\n",
    "- 对数概率的梯度，称为 score function；"
   ]
  },
  {
   "cell_type": "markdown",
   "id": "27b3d027-c60c-4d5d-a6b2-2c0fd2929dbb",
   "metadata": {},
   "source": [
    "### sampling & evaluating"
   ]
  },
  {
   "cell_type": "code",
   "execution_count": 7,
   "id": "90c5c345-1df5-4be5-aecf-40b6d10e3214",
   "metadata": {
    "execution": {
     "iopub.execute_input": "2025-01-29T10:02:13.556445Z",
     "iopub.status.busy": "2025-01-29T10:02:13.555865Z",
     "iopub.status.idle": "2025-01-29T10:02:13.568443Z",
     "shell.execute_reply": "2025-01-29T10:02:13.567169Z",
     "shell.execute_reply.started": "2025-01-29T10:02:13.556400Z"
    }
   },
   "outputs": [
    {
     "data": {
      "text/plain": [
       "tensor(1)"
      ]
     },
     "execution_count": 7,
     "metadata": {},
     "output_type": "execute_result"
    }
   ],
   "source": [
    "import torch, numpy as np\n",
    "\n",
    "probs = torch.tensor([0.1, 0.9])\n",
    "dist = torch.distributions.Categorical(probs)\n",
    "action = dist.sample()  # => 1\n",
    "action"
   ]
  },
  {
   "cell_type": "code",
   "execution_count": 8,
   "id": "2b2699ce-0376-479f-b4eb-006bb0ad0663",
   "metadata": {
    "execution": {
     "iopub.execute_input": "2025-01-29T10:02:59.749522Z",
     "iopub.status.busy": "2025-01-29T10:02:59.748951Z",
     "iopub.status.idle": "2025-01-29T10:02:59.772601Z",
     "shell.execute_reply": "2025-01-29T10:02:59.770467Z",
     "shell.execute_reply.started": "2025-01-29T10:02:59.749474Z"
    }
   },
   "outputs": [
    {
     "data": {
      "text/plain": [
       "tensor(-0.1054)"
      ]
     },
     "execution_count": 8,
     "metadata": {},
     "output_type": "execute_result"
    }
   ],
   "source": [
    "dist.log_prob(action)"
   ]
  },
  {
   "cell_type": "code",
   "execution_count": 9,
   "id": "8e988cae-6a8e-4077-9d5f-76895689569a",
   "metadata": {
    "execution": {
     "iopub.execute_input": "2025-01-29T10:03:06.412692Z",
     "iopub.status.busy": "2025-01-29T10:03:06.412129Z",
     "iopub.status.idle": "2025-01-29T10:03:06.424657Z",
     "shell.execute_reply": "2025-01-29T10:03:06.422395Z",
     "shell.execute_reply.started": "2025-01-29T10:03:06.412645Z"
    }
   },
   "outputs": [
    {
     "data": {
      "text/plain": [
       "-0.10536051565782628"
      ]
     },
     "execution_count": 9,
     "metadata": {},
     "output_type": "execute_result"
    }
   ],
   "source": [
    "np.log(0.9)"
   ]
  },
  {
   "cell_type": "markdown",
   "id": "56ada517-ded3-4467-912a-14d6c9394720",
   "metadata": {},
   "source": [
    "### advantage"
   ]
  },
  {
   "cell_type": "markdown",
   "id": "5dc2e321-3e1c-477a-b272-3d5a09512dfb",
   "metadata": {},
   "source": [
    "- $A=(r-b)$\n",
    "    - b: state, value function\n",
    "    - r: state & action"
   ]
  }
 ],
 "metadata": {
  "kernelspec": {
   "display_name": "Python 3 (ipykernel)",
   "language": "python",
   "name": "python3"
  },
  "language_info": {
   "codemirror_mode": {
    "name": "ipython",
    "version": 3
   },
   "file_extension": ".py",
   "mimetype": "text/x-python",
   "name": "python",
   "nbconvert_exporter": "python",
   "pygments_lexer": "ipython3",
   "version": "3.10.13"
  }
 },
 "nbformat": 4,
 "nbformat_minor": 5
}
