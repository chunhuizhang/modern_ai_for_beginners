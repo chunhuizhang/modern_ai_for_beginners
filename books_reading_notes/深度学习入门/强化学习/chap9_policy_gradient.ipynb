{
 "cells": [
  {
   "cell_type": "markdown",
   "id": "1e53c044-46dc-4956-a136-c8451a87e1cc",
   "metadata": {},
   "source": [
    "https://www.cs.toronto.edu/~tingwuwang/REINFORCE.pdf"
   ]
  },
  {
   "cell_type": "markdown",
   "id": "e06282d3-baa4-4559-8eab-20e8c39919b6",
   "metadata": {},
   "source": [
    "- 基于神经网络（将策略模型化）的策略表示为 $\\pi_\\theta(a|s)$\n",
    "- 考虑回合制任务，并基于策略 $\\pi_\\theta$ 选择行动\n",
    "    - $\\tau=(S_0,A_0,R_0,S_1,A_1,R_1,\\cdots),S_{T+1}$\n",
    "    - 使用折现率 $\\gamma$ 对收益 return\n",
    "        - $G(\\tau)=R_0+\\gamma R_1+\\gamma^2R_2+\\cdots+\\gamma^TR_T$\n",
    "- 此时目标函数 $J(\\theta)$（最大化）表示为：$J(\\theta)=\\mathbb E_{\\tau\\sim \\pi_\\theta}[G(\\tau)]$\n",
    "- $\\nabla_\\theta J(\\theta)=\\nabla_\\theta\\mathbb E_{\\tau\\sim\\pi_\\theta}[G(\\tau)]=\\mathbb E_{\\tau\\sim\\pi_\\theta}[\\sum_{t=0}^TG(\\tau)\\nabla_\\theta\\log\\pi_\\theta(A_t|S_t)]$"
   ]
  },
  {
   "cell_type": "code",
   "execution_count": null,
   "id": "d1740f7a-3e9f-4e2a-b112-6961cf2b8570",
   "metadata": {},
   "outputs": [],
   "source": []
  }
 ],
 "metadata": {
  "kernelspec": {
   "display_name": "Python 3 (ipykernel)",
   "language": "python",
   "name": "python3"
  },
  "language_info": {
   "codemirror_mode": {
    "name": "ipython",
    "version": 3
   },
   "file_extension": ".py",
   "mimetype": "text/x-python",
   "name": "python",
   "nbconvert_exporter": "python",
   "pygments_lexer": "ipython3",
   "version": "3.10.13"
  }
 },
 "nbformat": 4,
 "nbformat_minor": 5
}
