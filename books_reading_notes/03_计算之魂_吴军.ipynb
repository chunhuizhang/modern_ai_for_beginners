{
 "cells": [
  {
   "cell_type": "markdown",
   "id": "01df421f-7f5b-4708-9a12-0f709c6498c0",
   "metadata": {},
   "source": [
    "- 作家这块，从读研到毕业之后的7年间，买书最多的作家还是吴军老师，\n",
    "    - 数学之美入坑（统计建模的思维一直启发着我），\n",
    "- 我其实在去年八月份的视频（[[leetcode reviews] 01 计算思维与刷题方法](https://www.bilibili.com/video/BV1rP411s7T5/)）里边\n",
    "    - 也推荐过这本书，当时是从 leetcode 刷题对提升自己计算思维的角度来讲，不只是为了应付面试coding环节；\n",
    "    - 计算思维（说句废话是计算机的计算逻辑），不同于人的思维和认知，因此需要在实践中学习，在学习中实践；\n",
    "    - 计算机科学，跟现代生成式AI一样，也是一种实践动手的科学；\n",
    "- 常读常新，不断地在如下（正向/方向）的过程中提升自己的计算思维\n",
    "    - 底层的计算思维 => 数据结构/算法（leetcode） => 深度神经网络等现代AI的建模与计算\n",
    "        - 越往上，越偏应用\n",
    "    - 深度神经网络等现代AI的建模与计算 => 数据结构/算法（leetcode） => 底层的计算思维\n",
    "        - 越往下，越考验底层计算思维与计算机科学素养\n",
    "    - 自底向上/自顶向下的这两个过程，应当是伴随我们整个求学/工作的生涯，在不断地思考中，反复地加强对计算思维的认知与事件；\n",
    "- 一切皆数学，也一切皆计算\n",
    "    - 说句废话，现代生成式模型，那些 impressive 的性能和表现，都是建立在计算之上的，GPU才显得那么重要；\n",
    "        - 而非语言学家的先验，绝非符号和规则系统；\n",
    "    - 就像现代生成式AI的底层在数学上都是做概率建模一样；\n",
    "- 什么时候适合读这本书\n",
    "    - 学生时代，系统性学习计算机科学有大把的时间的时候；\n",
    "    - 工作中，觉得自己的代码写得烂，性能不佳的时候\n",
    "    - 换工作之前，边重温 leetcode 边梳理计算思维的时候；"
   ]
  },
  {
   "cell_type": "markdown",
   "id": "e32b82ab-9f1c-4ee7-9231-693c754077fa",
   "metadata": {},
   "source": [
    "## 章节导读"
   ]
  },
  {
   "cell_type": "markdown",
   "id": "ee63742c-e44c-47b0-9e0f-455f69106874",
   "metadata": {},
   "source": [
    "- Chap0：计算的本质\n",
    "    - 计算机的（物理）本质是机械运动\n",
    "    - 希尔伯特：数学问题 vs. 非数学问题\n",
    "    - 图灵：可计算问题 vs. 不可计算问题（伦理问题？？哈哈）\n",
    "        - 计算的理论边界：数学问题的边界内，能够判定的，有答案的问题；\n",
    "    - 人工智能本质上是现实问题的数学模型；\n",
    "- Chap1：Big O，什么是好的算法（算法建立在一定的数据结构之上）\n",
    "- Chap2：从递推到递归（recursive），逆向思维，**计算思维之一**；\n",
    "    - 调用栈，与实际计算的起点；\n",
    "    - 自顶向下的分解问题；\n",
    "- Chap3：编码，抽象与表示；\n",
    "    - 套用到 NLP 中就是经典的 word2vec，从不可计算的 word、symbol，到可计算的 vector\n",
    "- Chap4：分类与组合\n",
    "    - 组合数学，排列组合；\n",
    "- Chap5：图理论（Graph）及应用\n",
    "    - 编程思维，数据结构由线性到非线性的；\n",
    "    - 表达能力最强，也最适合大规模应用的数据结构；\n",
    "- Chap6：分治（Divide & Coquenter），**计算思维之二**；\n",
    "- Chap7：Tradeoff，结合实际应用时间复杂度/空间复杂度平衡的艺术，**计算思维之三**；\n",
    "- Chap8：从理论到实践，串行和并行，流水线和分布式计算\n",
    "- Chap9：状态与流程，\n",
    "- Chap10：确定与随机，概率算法与概率建模；\n",
    "- Chap11：一些典型难题；"
   ]
  },
  {
   "cell_type": "markdown",
   "id": "50bc8f9f-1acc-412c-b607-0d61a9261479",
   "metadata": {},
   "source": [
    "## misc"
   ]
  },
  {
   "cell_type": "markdown",
   "id": "8092f2ee-ccda-4626-ba77-5986e9b72b51",
   "metadata": {},
   "source": [
    "- https://github.com/siyuxin/exercises-of-the-soul-of-calculation/tree/main"
   ]
  }
 ],
 "metadata": {
  "kernelspec": {
   "display_name": "Python 3 (ipykernel)",
   "language": "python",
   "name": "python3"
  },
  "language_info": {
   "codemirror_mode": {
    "name": "ipython",
    "version": 3
   },
   "file_extension": ".py",
   "mimetype": "text/x-python",
   "name": "python",
   "nbconvert_exporter": "python",
   "pygments_lexer": "ipython3",
   "version": "3.10.13"
  }
 },
 "nbformat": 4,
 "nbformat_minor": 5
}
