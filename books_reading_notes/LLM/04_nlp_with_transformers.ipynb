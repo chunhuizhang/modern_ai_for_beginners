{
 "cells": [
  {
   "cell_type": "markdown",
   "id": "1e97ef24-ee23-4f5d-ba93-cee991f968d4",
   "metadata": {},
   "source": [
    "- Huggingface 成熟活跃的开源AI生态\n",
    "    - Huggingface 围绕 `transformers`库打造的开源生态，堪称开源AI第一生态\n",
    "    - 什么成熟呢\n",
    "        - 轮子已足够多；\n",
    "    - 什么又叫活跃\n",
    "        - 每每其他公司开源了相关的技术/工具，都可以很快地被集成到该社区中\n",
    "            - 比如已分布式训练框架（Microsoft 的 deepseed，NVIDIA 的 megtron-lm 等等），Huggingface 的 accelerate 都是可以无痛甚至只改运行命令（config）、不改代码的方式很快地继承进来\n",
    "            - 方便很快地进行实验\n"
   ]
  },
  {
   "cell_type": "code",
   "execution_count": null,
   "id": "1630c94e-efb3-469e-911a-231817d7b509",
   "metadata": {},
   "outputs": [],
   "source": []
  }
 ],
 "metadata": {
  "kernelspec": {
   "display_name": "Python 3 (ipykernel)",
   "language": "python",
   "name": "python3"
  },
  "language_info": {
   "codemirror_mode": {
    "name": "ipython",
    "version": 3
   },
   "file_extension": ".py",
   "mimetype": "text/x-python",
   "name": "python",
   "nbconvert_exporter": "python",
   "pygments_lexer": "ipython3",
   "version": "3.10.13"
  }
 },
 "nbformat": 4,
 "nbformat_minor": 5
}
