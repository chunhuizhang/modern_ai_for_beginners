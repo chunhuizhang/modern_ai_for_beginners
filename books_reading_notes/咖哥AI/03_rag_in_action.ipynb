{
 "cells": [
  {
   "cell_type": "markdown",
   "id": "384d7bac-0067-40d8-9865-d74366889547",
   "metadata": {},
   "source": [
    "- https://github.com/huangjia2019/rag-in-action"
   ]
  },
  {
   "cell_type": "markdown",
   "id": "05392041-cff7-4121-a64d-aaa1eabe9b64",
   "metadata": {},
   "source": [
    "### pipeline"
   ]
  },
  {
   "cell_type": "markdown",
   "id": "d553ba11-db8e-4e34-af79-f59abc6574e0",
   "metadata": {},
   "source": [
    "- rag pipeline\n",
    "    - 文档导入与解析\n",
    "        - 结构化/非结构化，pdf、images 等\n",
    "        - 文档分块（chunking）\n",
    "            - fixed size\n",
    "            - by sentences\n",
    "            - by paragraphs\n",
    "            - by pages (pdf)\n",
    "    - 嵌入（embedding）与索引（index）\n",
    "        - 嵌入\n",
    "        - 向量数据库\n",
    "            - faiss（meta）\n",
    "            - milvus（ziliz）\n",
    "    - 用户输入（user query）\n",
    "    - 检索（Retrieval）\n",
    "        - topk \n",
    "    - 生成并输出（generation）"
   ]
  },
  {
   "cell_type": "markdown",
   "id": "d0dde1ec-7c91-4496-9670-a0717d813713",
   "metadata": {},
   "source": [
    "### 相关框架"
   ]
  },
  {
   "cell_type": "markdown",
   "id": "84f38612-948a-416b-9f20-7f3269cb6620",
   "metadata": {},
   "source": [
    "- `llama_index`/`langchain`\n",
    "- milvus: 国产向量数据库，支持云，也支持本地\n",
    "    - https://milvus.io/docs/zh/quickstart.md\n",
    "    - https://milvus.io/docs/zh/tutorials-overview.md\n",
    "    "
   ]
  },
  {
   "cell_type": "markdown",
   "id": "178fa818-bde5-497f-8f8f-c344e334a318",
   "metadata": {},
   "source": [
    "### 工具"
   ]
  },
  {
   "cell_type": "markdown",
   "id": "a3a08fe4-1f50-4eef-b193-1e8baeac871e",
   "metadata": {},
   "source": [
    "- pdf 解析\n",
    "    - PyMuPDF\n",
    "    - PyPDF"
   ]
  }
 ],
 "metadata": {
  "kernelspec": {
   "display_name": "Python 3 (ipykernel)",
   "language": "python",
   "name": "python3"
  },
  "language_info": {
   "codemirror_mode": {
    "name": "ipython",
    "version": 3
   },
   "file_extension": ".py",
   "mimetype": "text/x-python",
   "name": "python",
   "nbconvert_exporter": "python",
   "pygments_lexer": "ipython3",
   "version": "3.10.0"
  }
 },
 "nbformat": 4,
 "nbformat_minor": 5
}
