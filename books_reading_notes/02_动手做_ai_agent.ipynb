{
 "cells": [
  {
   "cell_type": "code",
   "execution_count": 1,
   "id": "44d9a5e2-3e9e-48ca-ad8a-75fa3cc08f4c",
   "metadata": {},
   "outputs": [],
   "source": [
    "from IPython.display import Image"
   ]
  },
  {
   "cell_type": "markdown",
   "id": "7a409bc4-5a8b-4b69-86e4-487771bd39ef",
   "metadata": {},
   "source": [
    "- 咖哥 ai 系列\n",
    "    - 咖哥 & 小雪，模拟课堂老师跟学生的对话展开\n",
    "    - 图解系列，图书制作质量很高，更多图表，会更直观，更容易理解；\n",
    "    - 不只有 Agent 相关的工程（engineering），也会涉及到很多 research\n",
    "        - gpt4 以来的 agent 工程上和学术上并没有分得那么清楚\n",
    "        - 甚至我觉得 Agent 从实施的角度，是科研和工程并重或者说是交叉的；\n",
    "        - 学术向\n",
    "            - ReAct，Camel，AutogGen，\n",
    "            - OpenAI api（GPT，DALL-E3）\n",
    "            - Multi-Agents\n",
    "            - Actor-Critic，with feedback\n",
    "        - 工程向\n",
    "            - OpenAI api\n",
    "            - langchain\n",
    "            - llamaindex： 管理和检索非结构化数据；\n",
    "            - rag\n",
    "            - ..\n",
    "    - 本书还涉及较多的 Agent 实战案例；\n",
    "        - https://github.com/huangjia2019/ai-agents\n",
    "- Agent：（LLM api 扮演大脑和核心的决策）自主性越来越高，更少人的参与；\n",
    "    - 对话式的 gpt 只能单点、step by step 的解决问题；\n",
    "    - 对于复杂的，或者涉及到很多外部工具交互，外部文档等等交互的场景下，\n",
    "        - 通过一个封装好了的 Agent 就可以更加自主 (Autonomous)、智能化地完成具体任务；\n",
    "- 本质上，或者通俗地说，Agent 是基于 OpenAI api、LangChain、LlamaIndex等**新基建**搭建的一套 workflow；\n",
    "    - openai api 做大脑，做核心的决策和推理；\n",
    "    - 能显著地提升单点调用 openai api 能达到的性能\n",
    "    - 其实就是 Andrew NG 所讲的，gpt4 + agent = gpt5;"
   ]
  },
  {
   "cell_type": "code",
   "execution_count": 2,
   "id": "5b4f1e0b-0084-4b70-9676-b5d1d466027b",
   "metadata": {},
   "outputs": [
    {
     "data": {
      "text/html": [
       "<img src=\"https://lilianweng.github.io/posts/2023-06-23-agent/agent-overview.png\" width=\"500\"/>"
      ],
      "text/plain": [
       "<IPython.core.display.Image object>"
      ]
     },
     "execution_count": 2,
     "metadata": {},
     "output_type": "execute_result"
    }
   ],
   "source": [
    "Image(url='https://lilianweng.github.io/posts/2023-06-23-agent/agent-overview.png', width=500)"
   ]
  },
  {
   "cell_type": "markdown",
   "id": "69eff88f-bdc6-4fd3-929f-18e336132cdb",
   "metadata": {},
   "source": [
    "## 章节导读"
   ]
  },
  {
   "cell_type": "markdown",
   "id": "8e677a0e-bae8-4dac-94ca-4baf9052a3d0",
   "metadata": {},
   "source": [
    "- Chap 1: 什么是 Agent\n",
    "    - Agent 是一个能够（自主 Autonomous）感知环境，做出决策并采取行动的系统。\n",
    "    - 四大特性：自主性、适应性（非预设任务）、交互性、功能性（完成复杂任务）；\n",
    "    - 核心组件：感知器、知识库、决策引擎、执行器；\n",
    "- Chap 2：基于 LLMs 的 Agent 的技术框架\n",
    "    - Chain of Thought，Tree of Thought\n",
    "    - ReAct：LangChain 原生支持；\n",
    "- Chap 3：OpenAI API、LangChain、LlamaIndex\n",
    "    - OpenAI API：大脑，核心推理和决策模块；\n",
    "    - LangChain：与多种大模型api交互，封装了很多大模型应用开发理念的技术实现细节\n",
    "        - 6大模块和组件：I/O、检索（外部数据源）、Agentss、Chains、Memory、Callback\n",
    "    - LlamaIndex & RAG：专注于 RAG 技术，官方doc维护较好、用户体验更佳；\n",
    "- Chap4-10：Agents 应用开发\n",
    "    - chap4: 自动化办公（Assistants API & DALL-E 创作PPT）\n",
    "    - chap5：function calling\n",
    "    - chap6：ReAct\n",
    "    - chap7：Plann-and-Execute 智能调度库存\n",
    "    - chap8：LlamaIndex & RAG\n",
    "    - chap9：AutoGPT、BabyAGI、Camel\n",
    "    - chap10：Multi-Agents framework，AutoGen & MetaGPT"
   ]
  },
  {
   "cell_type": "code",
   "execution_count": null,
   "id": "a5e80d68-ec8b-4eee-83d9-ed97d44f6550",
   "metadata": {},
   "outputs": [],
   "source": []
  }
 ],
 "metadata": {
  "kernelspec": {
   "display_name": "Python 3 (ipykernel)",
   "language": "python",
   "name": "python3"
  },
  "language_info": {
   "codemirror_mode": {
    "name": "ipython",
    "version": 3
   },
   "file_extension": ".py",
   "mimetype": "text/x-python",
   "name": "python",
   "nbconvert_exporter": "python",
   "pygments_lexer": "ipython3",
   "version": "3.10.13"
  }
 },
 "nbformat": 4,
 "nbformat_minor": 5
}
