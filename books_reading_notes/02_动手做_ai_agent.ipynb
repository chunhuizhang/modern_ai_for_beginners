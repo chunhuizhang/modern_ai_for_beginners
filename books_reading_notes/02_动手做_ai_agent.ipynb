{
 "cells": [
  {
   "cell_type": "markdown",
   "id": "7a409bc4-5a8b-4b69-86e4-487771bd39ef",
   "metadata": {},
   "source": [
    "- 咖哥 ai 系列\n",
    "    - 咖哥 & 小雪，模拟课堂老师跟学生的对话展开\n",
    "    - 图解系列，图书制作质量很高，更多图表，会更直观，更容易理解；\n",
    "    - 不只有 Agent 相关的工程（engineering），也会涉及到很多 research，gpt4 以来的 agent 工程上和学术上并没有分得那么清楚\n",
    "        - 甚至我觉得 Agent 从实施的角度，是科研和工程并重或者说是交叉的；\n",
    "        - 学术项\n",
    "            - ReAct，Camel，AutogGen，\n",
    "            - OpenAI api（GPT，DALL-E3）\n",
    "        - 工程项\n",
    "            - OpenAI api\n",
    "            - langchain\n",
    "            - llamaindex： 管理和检索非结构化数据；\n",
    "            - rag\n",
    "            - ..\n",
    "    - 本书还涉及较多的 Agent 实战案例；\n",
    "- Agent：（LLM api 扮演大脑和核心的决策）自主性越来越高，更少人的参与；\n",
    "    - 对话式的 gpt 只能单点、step by step 的解决问题；\n",
    "    - 对于复杂的，或者涉及到很多外部工具交互，外部文档等等交互的场景下，通过一个封装好了的 Agent 就可以更加自主、智能化地完成具体任务；"
   ]
  },
  {
   "cell_type": "markdown",
   "id": "69eff88f-bdc6-4fd3-929f-18e336132cdb",
   "metadata": {},
   "source": [
    "## 章节导读"
   ]
  },
  {
   "cell_type": "code",
   "execution_count": null,
   "id": "0d75bfb8-5715-4613-ae2d-2b5f05db141c",
   "metadata": {},
   "outputs": [],
   "source": []
  }
 ],
 "metadata": {
  "kernelspec": {
   "display_name": "Python 3 (ipykernel)",
   "language": "python",
   "name": "python3"
  },
  "language_info": {
   "codemirror_mode": {
    "name": "ipython",
    "version": 3
   },
   "file_extension": ".py",
   "mimetype": "text/x-python",
   "name": "python",
   "nbconvert_exporter": "python",
   "pygments_lexer": "ipython3",
   "version": "3.10.13"
  }
 },
 "nbformat": 4,
 "nbformat_minor": 5
}
