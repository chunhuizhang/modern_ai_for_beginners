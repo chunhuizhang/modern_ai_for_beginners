{
 "cells": [
  {
   "cell_type": "markdown",
   "id": "633a6666-487a-42c7-8a7b-8f6998a2c653",
   "metadata": {},
   "source": [
    "- 咖哥 ai 系列\n",
    "    - 咖哥 & 小冰，模拟课堂老师跟学生的对话展开\n",
    "    - 图解系列，图书制作质量很高，更多图表，会更直观，更容易理解；\n",
    "    - 不只是 GPT，还会有关于 mha（multi head attention）以及 Transformer 的介绍，更包含了整个 nlp 的发展脉络；\n",
    "    - 单个核心知识技术点的都有简洁、清晰、完整可运行的代码（pytorch版本）；"
   ]
  },
  {
   "cell_type": "markdown",
   "id": "6ba76e3a-cd78-443f-b400-2b32d2be69fa",
   "metadata": {},
   "source": [
    "## 内容介绍"
   ]
  },
  {
   "cell_type": "markdown",
   "id": "14355538-ee27-41b9-8a7d-88cd212afe43",
   "metadata": {},
   "source": [
    "> 现代式人工智能：以 GPT （decoder of Transformer，NSP：Next token prediction）为核心\n",
    ">   > 这本书不只是对 GPT 的 introduction，整个的成书结构也是对 NLP 的发展过程的梳理；\n",
    "- Chap 1：早期的 Language model（LM，语言模型）：N-gram，BoW（bag of words）\n",
    "    - N-gram（N-元组）：unigram，bigram，trigram\n",
    "    - BoW：词袋\n",
    "- Chap 2: word embedding & word2vec\n",
    "- Chap 3：NPLM（Neural Probabilistic Language Model）与RNN，序列建模（sequence modeling）\n",
    "    - 从 word 到 sentence；\n",
    "- Chap 4: Seq2Seq，编码器-解码器（编解码）架构\n",
    "    - 架构架构，顾名思义，很多 submodule 可以被替换；\n",
    "- Chap 5：Attention，Transformer 的开端\n",
    "- Chap 6：Transformer（Attention is All you Need）\n",
    "\n",
    "    $$\n",
    "    \\text{Attention}(Q, K, V) = \\text{softmax}\\left(\\frac{QK^T}{\\sqrt{d_k}}\\right)V\n",
    "    $$\n",
    "\n",
    "- Chap 7：GPT，Next token prediction\n",
    "    - BERT vs. GPT\n",
    "- Chap 8: 从 GPT 到 ChatGPT\n",
    "- Chap 9：RLHF 与 ChatGPT"
   ]
  },
  {
   "cell_type": "markdown",
   "id": "a027e91b-2037-405e-b11d-fbd4a31d71ce",
   "metadata": {},
   "source": [
    "## 相关资源"
   ]
  },
  {
   "cell_type": "markdown",
   "id": "6796ab64-6f8e-491b-8e3d-34a582fd4c9c",
   "metadata": {},
   "source": [
    "- 图解GPT配套资源\n",
    "    - https://box.lenovo.com/l/T550bT（不需要下载联想客户端）\n",
    "    - https://www.epubit.com/bookDetails?id=UB836238e7a9d3d&typeName=\n",
    "- 可结合我的B站的两个系列来实操这本书\n",
    "    - [BERT、T5、GPT](https://space.bilibili.com/59807853/channel/collectiondetail?sid=496538)\n",
    "    - [personal chatgpt](https://space.bilibili.com/59807853/channel/collectiondetail?sid=1373266)\n",
    "- 图解GPT，博客版\n",
    "    -  https://github.com/datawhalechina/learn-nlp-with-transformers/blob/main/docs/%E7%AF%87%E7%AB%A02-Transformer%E7%9B%B8%E5%85%B3%E5%8E%9F%E7%90%86/2.4-%E5%9B%BE%E8%A7%A3GPT.md\n",
    "- 检索视频不方便的。自己的知识学习体系，可以从书的章节目录来构建"
   ]
  }
 ],
 "metadata": {
  "kernelspec": {
   "display_name": "Python 3 (ipykernel)",
   "language": "python",
   "name": "python3"
  },
  "language_info": {
   "codemirror_mode": {
    "name": "ipython",
    "version": 3
   },
   "file_extension": ".py",
   "mimetype": "text/x-python",
   "name": "python",
   "nbconvert_exporter": "python",
   "pygments_lexer": "ipython3",
   "version": "3.10.13"
  }
 },
 "nbformat": 4,
 "nbformat_minor": 5
}
