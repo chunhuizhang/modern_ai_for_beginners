{
 "cells": [
  {
   "cell_type": "markdown",
   "id": "633a6666-487a-42c7-8a7b-8f6998a2c653",
   "metadata": {},
   "source": [
    "- 咖哥 ai 系列\n",
    "    - 咖哥 & 小冰，模拟课堂老师跟学生的对话展开\n",
    "- 较为入门\n",
    "    - 可结合我的B站的两个系列来实操这本书\n",
    "        - Bert\n",
    "        - personal chatgpt"
   ]
  }
 ],
 "metadata": {
  "kernelspec": {
   "display_name": "Python 3 (ipykernel)",
   "language": "python",
   "name": "python3"
  },
  "language_info": {
   "codemirror_mode": {
    "name": "ipython",
    "version": 3
   },
   "file_extension": ".py",
   "mimetype": "text/x-python",
   "name": "python",
   "nbconvert_exporter": "python",
   "pygments_lexer": "ipython3",
   "version": "3.10.13"
  }
 },
 "nbformat": 4,
 "nbformat_minor": 5
}
