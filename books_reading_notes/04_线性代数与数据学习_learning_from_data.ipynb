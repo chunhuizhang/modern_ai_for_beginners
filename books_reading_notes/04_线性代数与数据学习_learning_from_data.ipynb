{
 "cells": [
  {
   "cell_type": "code",
   "execution_count": 4,
   "id": "0191149a-0572-48b2-a9d0-0781245c360e",
   "metadata": {
    "execution": {
     "iopub.execute_input": "2024-07-27T04:20:19.665988Z",
     "iopub.status.busy": "2024-07-27T04:20:19.665479Z",
     "iopub.status.idle": "2024-07-27T04:20:19.673948Z",
     "shell.execute_reply": "2024-07-27T04:20:19.671863Z",
     "shell.execute_reply.started": "2024-07-27T04:20:19.665951Z"
    }
   },
   "outputs": [],
   "source": [
    "from IPython.display import Image\n",
    "import torch\n",
    "from torch import nn\n",
    "import torch.nn.functional as F"
   ]
  },
  {
   "cell_type": "code",
   "execution_count": 13,
   "id": "fa3f3257-a8f5-4a9a-a070-f13f89d9e780",
   "metadata": {
    "execution": {
     "iopub.execute_input": "2024-07-27T04:23:25.490503Z",
     "iopub.status.busy": "2024-07-27T04:23:25.489866Z",
     "iopub.status.idle": "2024-07-27T04:23:25.505048Z",
     "shell.execute_reply": "2024-07-27T04:23:25.502914Z",
     "shell.execute_reply.started": "2024-07-27T04:23:25.490456Z"
    }
   },
   "outputs": [
    {
     "data": {
      "text/plain": [
       "<torch._C.Generator at 0x761bac0d6610>"
      ]
     },
     "execution_count": 13,
     "metadata": {},
     "output_type": "execute_result"
    }
   ],
   "source": [
    "torch.manual_seed(42)"
   ]
  },
  {
   "cell_type": "markdown",
   "id": "614e473c-afb7-4e76-bc61-37b82daf5f6b",
   "metadata": {},
   "source": [
    "### subspaces & SVD"
   ]
  },
  {
   "cell_type": "markdown",
   "id": "a1fa7075-95fe-4e52-88e5-3089ab03c7bf",
   "metadata": {},
   "source": [
    "### matrix 与 tensor"
   ]
  },
  {
   "cell_type": "markdown",
   "id": "af098a6f-5ddd-434a-b5d9-3eb37beeafeb",
   "metadata": {},
   "source": [
    "> 深度学习乃至说现代AI，的基本核心数据结构就是张量，就是线性代数中的 matrix。nvidia gpu 快也正是快在对 matrix 运算的加速上。\n",
    "\n",
    "> 数学基本原理的 modern perspective（现代视角）、application perspective（应用视角）。就是这些（相对枯燥的）数学基础有什么用；\n",
    "\n",
    "- learning from data\n",
    "    - data 的表示（representation）及存储（storage）形式即为矩阵/矢量；"
   ]
  },
  {
   "cell_type": "code",
   "execution_count": 18,
   "id": "08b284d8-100e-47ec-8490-cdbee4bea211",
   "metadata": {
    "execution": {
     "iopub.execute_input": "2024-07-27T05:22:38.061353Z",
     "iopub.status.busy": "2024-07-27T05:22:38.060718Z",
     "iopub.status.idle": "2024-07-27T05:22:38.075831Z",
     "shell.execute_reply": "2024-07-27T05:22:38.074267Z",
     "shell.execute_reply.started": "2024-07-27T05:22:38.061307Z"
    }
   },
   "outputs": [
    {
     "data": {
      "text/plain": [
       "(torch.Size([2, 3]), torch.Size([4, 3]), torch.Size([4]))"
      ]
     },
     "execution_count": 18,
     "metadata": {},
     "output_type": "execute_result"
    }
   ],
   "source": [
    "# https://pytorch.org/docs/stable/generated/torch.nn.functional.linear.html\n",
    "# 2: 输入样本的数量，batch size，\n",
    "# 3: 单样本的 features 的维度, row vectors\n",
    "x = torch.randn(2, 3)\n",
    "W = nn.Linear(3, 4)\n",
    "x.shape, W.weight.shape, W.bias.shape"
   ]
  },
  {
   "cell_type": "code",
   "execution_count": 15,
   "id": "e33ca040-2bc9-4400-9fba-c191eee4b100",
   "metadata": {
    "execution": {
     "iopub.execute_input": "2024-07-27T04:23:29.043951Z",
     "iopub.status.busy": "2024-07-27T04:23:29.043317Z",
     "iopub.status.idle": "2024-07-27T04:23:29.057415Z",
     "shell.execute_reply": "2024-07-27T04:23:29.055321Z",
     "shell.execute_reply.started": "2024-07-27T04:23:29.043903Z"
    }
   },
   "outputs": [
    {
     "data": {
      "text/plain": [
       "tensor([[-0.2368, -0.2163, -0.2972, -0.3103],\n",
       "        [-0.4972, -0.8006, -0.3408, -0.1708]], grad_fn=<AddmmBackward0>)"
      ]
     },
     "execution_count": 15,
     "metadata": {},
     "output_type": "execute_result"
    }
   ],
   "source": [
    "W(x)"
   ]
  },
  {
   "cell_type": "code",
   "execution_count": 16,
   "id": "4434267e-3c1a-4784-9dc9-5c7fc08f1dd0",
   "metadata": {
    "execution": {
     "iopub.execute_input": "2024-07-27T04:23:35.569124Z",
     "iopub.status.busy": "2024-07-27T04:23:35.568511Z",
     "iopub.status.idle": "2024-07-27T04:23:35.577446Z",
     "shell.execute_reply": "2024-07-27T04:23:35.575300Z",
     "shell.execute_reply.started": "2024-07-27T04:23:35.569078Z"
    }
   },
   "outputs": [],
   "source": [
    "A = W.weight\n",
    "b = W.bias"
   ]
  },
  {
   "cell_type": "markdown",
   "id": "f5e835f7-f7fe-470f-9dc1-b0e5299d9906",
   "metadata": {},
   "source": [
    "$$\n",
    "y=xA^T+b\n",
    "$$"
   ]
  },
  {
   "cell_type": "code",
   "execution_count": 17,
   "id": "41448e57-0d8e-412e-b7ff-36830d5cf60c",
   "metadata": {
    "execution": {
     "iopub.execute_input": "2024-07-27T04:23:48.335574Z",
     "iopub.status.busy": "2024-07-27T04:23:48.334944Z",
     "iopub.status.idle": "2024-07-27T04:23:48.350049Z",
     "shell.execute_reply": "2024-07-27T04:23:48.347778Z",
     "shell.execute_reply.started": "2024-07-27T04:23:48.335526Z"
    }
   },
   "outputs": [
    {
     "data": {
      "text/plain": [
       "tensor([[-0.2368, -0.2163, -0.2972, -0.3103],\n",
       "        [-0.4972, -0.8006, -0.3408, -0.1708]], grad_fn=<AddBackward0>)"
      ]
     },
     "execution_count": 17,
     "metadata": {},
     "output_type": "execute_result"
    }
   ],
   "source": [
    "F.linear(x, A) + b"
   ]
  },
  {
   "cell_type": "markdown",
   "id": "4a02dbff-b067-4d6e-ac2b-06455926a269",
   "metadata": {},
   "source": [
    "### Learning from data"
   ]
  },
  {
   "cell_type": "markdown",
   "id": "ef87fcab-15c1-49b6-acc5-045e8d4d35b4",
   "metadata": {},
   "source": [
    "> data-drived learning-based methods\n",
    "\n",
    "- Low rank matrix & Matrix decomposition\n",
    "    - LoRA\n",
    "    - (SAE) Sparse AutoEncoder, Dictionary learning\n",
    "    - SVD（Singular Value Decomposition）\n",
    "- (Deep) Learning or Neural Networks\n",
    "    - backpropagation\n",
    "    - SGD"
   ]
  },
  {
   "cell_type": "markdown",
   "id": "ed4cb927-c602-469e-9a09-8649c33e07d5",
   "metadata": {},
   "source": [
    "### chapters"
   ]
  },
  {
   "cell_type": "markdown",
   "id": "d6b6c329-c85a-4532-a940-63851bd93aa3",
   "metadata": {},
   "source": [
    "> 整本书非常的凝练，有的放矢，面向现代的AI计算及应用；\n",
    "\n",
    "- chap1：highlights of linear algebra"
   ]
  },
  {
   "cell_type": "markdown",
   "id": "183c988f-0062-44cd-9dc2-49a15eb5a88b",
   "metadata": {},
   "source": [
    "### resources"
   ]
  },
  {
   "cell_type": "markdown",
   "id": "abcae9f5-286d-4f7b-919a-5626bbe89a0e",
   "metadata": {},
   "source": [
    "- english version\n",
    "    - http://staff.ustc.edu.cn/~ynyang/2023/books/8.pdf"
   ]
  }
 ],
 "metadata": {
  "kernelspec": {
   "display_name": "Python 3 (ipykernel)",
   "language": "python",
   "name": "python3"
  },
  "language_info": {
   "codemirror_mode": {
    "name": "ipython",
    "version": 3
   },
   "file_extension": ".py",
   "mimetype": "text/x-python",
   "name": "python",
   "nbconvert_exporter": "python",
   "pygments_lexer": "ipython3",
   "version": "3.10.13"
  }
 },
 "nbformat": 4,
 "nbformat_minor": 5
}
