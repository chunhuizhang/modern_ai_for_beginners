{
 "cells": [
  {
   "cell_type": "markdown",
   "id": "7734341f-8ca7-4842-bb4d-20f43bbe2a4c",
   "metadata": {},
   "source": [
    "- https://www.youtube.com/watch?v=KHVR587oW8I"
   ]
  },
  {
   "cell_type": "code",
   "execution_count": 17,
   "id": "4920743c-d8a2-4c62-bac1-7eaea6d35ab2",
   "metadata": {
    "execution": {
     "iopub.execute_input": "2024-11-03T14:52:37.144051Z",
     "iopub.status.busy": "2024-11-03T14:52:37.143438Z",
     "iopub.status.idle": "2024-11-03T14:52:37.152871Z",
     "shell.execute_reply": "2024-11-03T14:52:37.150738Z",
     "shell.execute_reply.started": "2024-11-03T14:52:37.144007Z"
    }
   },
   "outputs": [],
   "source": [
    "from IPython.display import Image"
   ]
  },
  {
   "cell_type": "markdown",
   "id": "b86e05a8-d153-400b-93f2-4aefbd7e2076",
   "metadata": {},
   "source": [
    "- Probabilistic interpretation\n",
    "- likelihood & uncertainlity\n",
    "- learning a probability distribution from data\n",
    "    - then inference\n",
    "    - or synthesis\n",
    "- 频率 vs. Bayesian：关于 probability 的不同观点；\n",
    "    - 频率：硬币、骰子，repeats\n",
    "        - 无法解释天气预报的概率，比如明天天气下雨的概率是70%；\n",
    "            - 因为我们无法 repeat the measurement of tomorrow's weather to find the frequency of rain outcomes;\n",
    "            - $P(rain)=\\frac{P(rain)}{P(rain)+P(sunny)}$\n",
    "    - Bayesian：Probability is viewed as the as a **subjective degree of belief** or confidence；\n",
    "        - 明天下雨的概率是 0.7：a measurement of confidence rather that a frequency\n",
    "- high-dimensional probability distribution\n",
    "    - all images come from a high-dimensional probability distribution\n",
    "- generation\n",
    "    - Sampling from the **joint distribution** of pixels allows for generative capabilities\n",
    "        - because this distribution captures **the structure of data**；\n",
    "        - 相对地，sampling each pixels **independently** always results in noise；"
   ]
  },
  {
   "cell_type": "markdown",
   "id": "55922428-eb2e-44f6-9b70-56dd4cdba796",
   "metadata": {},
   "source": [
    "### surprise => Entropy"
   ]
  },
  {
   "cell_type": "markdown",
   "id": "97a18834-4a55-4389-9abb-3fbd5564a75d",
   "metadata": {},
   "source": [
    "- $h(s)$：surprisal of state $s$\n",
    "- $h(s)=f(p_s)$：function of probability\n",
    "    - $h(1/6)\\gt h(1/2)$：骰子为1的惊讶度 > 硬币正面的惊讶度\n",
    "    - rare events => high surprise\n",
    "    - common events => low surprise\n",
    "    - $p_s\\rightarrow 1, h(p_s)\\rightarrow 0$\n",
    "- when probabilities multiply（概率连乘）, the surprise should add\n",
    "    - $h(p_1\\cdot p_2)=h(p_1)+h(p_2)$ （log function）\n",
    "    - 同时 $p_s$ 越大，$h(p_s)$ 越低\n",
    "- $h(s)=\\log \\frac1{p_s}$\n",
    "- average surprise of a distribution => Entropy\n",
    "    - $\\sum_sp(s)\\log\\frac1{p_s}=-\\sum_sp_s\\log p_s$"
   ]
  },
  {
   "cell_type": "code",
   "execution_count": 1,
   "id": "8696c948-6bee-4ee4-9276-a099d600427b",
   "metadata": {
    "execution": {
     "iopub.execute_input": "2024-11-03T14:11:10.854505Z",
     "iopub.status.busy": "2024-11-03T14:11:10.853889Z",
     "iopub.status.idle": "2024-11-03T14:11:11.374441Z",
     "shell.execute_reply": "2024-11-03T14:11:11.372579Z",
     "shell.execute_reply.started": "2024-11-03T14:11:10.854458Z"
    }
   },
   "outputs": [],
   "source": [
    "import numpy as np\n",
    "import matplotlib.pyplot as plt\n",
    "\n",
    "# Define the surprise function h(s)\n",
    "def h(p_s):\n",
    "    return np.log(1 / p_s)\n",
    "\n",
    "# Generate probability values\n",
    "p_s_values = np.linspace(0.01, 1, 1000)  # Avoid zero to prevent log(0)\n",
    "h_values = h(p_s_values)"
   ]
  },
  {
   "cell_type": "code",
   "execution_count": 6,
   "id": "4531dc12-1be6-47a1-a382-a48d9787b404",
   "metadata": {
    "execution": {
     "iopub.execute_input": "2024-11-03T14:12:02.064975Z",
     "iopub.status.busy": "2024-11-03T14:12:02.064610Z",
     "iopub.status.idle": "2024-11-03T14:12:02.281116Z",
     "shell.execute_reply": "2024-11-03T14:12:02.279367Z",
     "shell.execute_reply.started": "2024-11-03T14:12:02.064950Z"
    }
   },
   "outputs": [
    {
     "data": {
      "image/png": "[encoded data removed]",
      "text/plain": [
       "<Figure size 500x300 with 1 Axes>"
      ]
     },
     "metadata": {},
     "output_type": "display_data"
    }
   ],
   "source": [
    "# Plotting\n",
    "plt.figure(figsize=(5, 3))\n",
    "plt.plot(p_s_values, h_values, color='red', linewidth=2)\n",
    "\n",
    "# Adding text and labels\n",
    "plt.text(0.05, 5, 'Rare', color='lightcoral', fontsize=10, weight='bold')\n",
    "plt.text(0.85, 0.3, 'Common', color='lightblue', fontsize=10, weight='bold')\n",
    "plt.text(0.4, 4, r'$h(s) = \\log \\frac{1}{p_s}$', fontsize=30)\n",
    "\n",
    "# Label axes\n",
    "plt.xlabel('Probability $p_s$', fontsize=14)\n",
    "plt.ylabel('Surprise', fontsize=14)\n",
    "\n",
    "# Set limits and style\n",
    "plt.xlim(0, 1)\n",
    "plt.ylim(0, 7)\n",
    "plt.grid(visible=False)\n",
    "plt.gca().set_facecolor('black')\n",
    "plt.gca().tick_params(colors='white')\n",
    "plt.gcf().set_facecolor('black')\n",
    "\n",
    "# Show the plot\n",
    "plt.show()"
   ]
  },
  {
   "cell_type": "markdown",
   "id": "5edc4bc9-44ab-4516-a10a-6dad75c8821d",
   "metadata": {},
   "source": [
    "### $p_{model}$ vs. $p_{reality}$ "
   ]
  },
  {
   "cell_type": "markdown",
   "id": "3537f0e5-984f-457f-acef-b288a48ee7f6",
   "metadata": {},
   "source": [
    "- 考虑一个非常（现实中） rigged coin，$0.99$ vs. $0.01$\n",
    "    - 抛十次，均为正面；\n",
    "    - 对于 $p_{model}$，其 surprise 为\n",
    "        - $p(10\\text{ heads})=0.5^{10}$\n",
    "        - $h(10\\text{ heads})=\\log\\frac{1}{0.5^{10}}$\n",
    "    - 对于 $p_{reality}$，其 surprise\n",
    "        - $p(10\\text{ heads})=0.99^{10}$\n",
    "        - $p(10\\text{ heads})=\\log\\frac1{0.99^{10}}$\n",
    "- your surprise is caused by believing in the wrong model"
   ]
  },
  {
   "cell_type": "code",
   "execution_count": 13,
   "id": "928d3ba0-5ce2-4ff8-84c3-d19b91c4686f",
   "metadata": {
    "execution": {
     "iopub.execute_input": "2024-11-03T14:29:09.947734Z",
     "iopub.status.busy": "2024-11-03T14:29:09.947448Z",
     "iopub.status.idle": "2024-11-03T14:29:09.958367Z",
     "shell.execute_reply": "2024-11-03T14:29:09.956374Z",
     "shell.execute_reply.started": "2024-11-03T14:29:09.947716Z"
    }
   },
   "outputs": [
    {
     "data": {
      "text/plain": [
       "(6.931471805599453, 0.10050335853501455)"
      ]
     },
     "execution_count": 13,
     "metadata": {},
     "output_type": "execute_result"
    }
   ],
   "source": [
    "np.log(0.5**-10), np.log(0.99**(-10))"
   ]
  },
  {
   "cell_type": "markdown",
   "id": "76ddf8d0-6d20-43b1-92d0-cdac031fb078",
   "metadata": {},
   "source": [
    "### cross entropy => KL div"
   ]
  },
  {
   "cell_type": "markdown",
   "id": "502914f5-1697-4687-a296-a44742a693ec",
   "metadata": {},
   "source": [
    "$$\n",
    "H(P,Q)=\\sum_sp(s)\\log\\frac1{q_s}\n",
    "$$\n",
    "\n",
    "- Average surprise you will get by observing a random variable governed by distribution $P$, while believing in its model $Q$.\n",
    "- $p_s$: how often the state s is observed\n",
    "- $\\log\\frac1{q_s}$: how surprised you will be to see it\n",
    "\n",
    "$$\n",
    "H(P,Q)\\geq H(P)\n",
    "$$\n",
    "\n",
    "- $P=Q$ 时，$H(P,Q)=H(P)$\n",
    "\n",
    "$$\n",
    "H(P,Q)\\neq H(Q,P)\n",
    "$$\n",
    "\n",
    "- 考虑之前的例子，实际是 0.99 vs. 0.01，认为是 0.5 vs. 00.5\n",
    "    - Actual $p_{heads}$ 0.99\n",
    "    - Believed $p_{heads}$ 0.5\n",
    "    - Actual $p_{tails}$ 0.01\n",
    "    - Believed $p_{tails}$ 0.5"
   ]
  },
  {
   "cell_type": "code",
   "execution_count": 14,
   "id": "119b5e70-9e88-48ab-933b-99b4a37f4cf3",
   "metadata": {
    "execution": {
     "iopub.execute_input": "2024-11-03T14:36:38.653202Z",
     "iopub.status.busy": "2024-11-03T14:36:38.652575Z",
     "iopub.status.idle": "2024-11-03T14:36:38.665871Z",
     "shell.execute_reply": "2024-11-03T14:36:38.663646Z",
     "shell.execute_reply.started": "2024-11-03T14:36:38.653157Z"
    }
   },
   "outputs": [
    {
     "data": {
      "text/plain": [
       "0.6931471805599453"
      ]
     },
     "execution_count": 14,
     "metadata": {},
     "output_type": "execute_result"
    }
   ],
   "source": [
    "0.99 * np.log(1/0.5) + 0.01 * np.log(1/0.5)"
   ]
  },
  {
   "cell_type": "code",
   "execution_count": 15,
   "id": "183253f7-2ab4-4ff8-aaff-332549756fda",
   "metadata": {
    "execution": {
     "iopub.execute_input": "2024-11-03T14:36:54.485353Z",
     "iopub.status.busy": "2024-11-03T14:36:54.484731Z",
     "iopub.status.idle": "2024-11-03T14:36:54.498083Z",
     "shell.execute_reply": "2024-11-03T14:36:54.495953Z",
     "shell.execute_reply.started": "2024-11-03T14:36:54.485309Z"
    }
   },
   "outputs": [
    {
     "data": {
      "text/plain": [
       "2.307610260920796"
      ]
     },
     "execution_count": 15,
     "metadata": {},
     "output_type": "execute_result"
    }
   ],
   "source": [
    "0.5 * np.log(1/0.99) + 0.5 * np.log(1/0.01)"
   ]
  },
  {
   "cell_type": "markdown",
   "id": "8340692c-b1ca-469a-9048-ff1487c9b3a0",
   "metadata": {},
   "source": [
    "#### kl div"
   ]
  },
  {
   "cell_type": "markdown",
   "id": "320064fa-70c4-4f8b-98d5-459b543807ae",
   "metadata": {},
   "source": [
    "$$\n",
    "H(P,Q)-H(P)=\\sum_s p_s\\log\\frac{p_s}{q_s}\n",
    "$$"
   ]
  },
  {
   "cell_type": "markdown",
   "id": "ecbc26db-da58-4e80-a95c-e3e6433da730",
   "metadata": {},
   "source": [
    "Measures surprise caused by the model and true distributions being different, beyond the uncertainty of the true distribution itself.\n",
    "- 排除掉原始分布本身的不确定性；"
   ]
  },
  {
   "cell_type": "code",
   "execution_count": 16,
   "id": "5095068b-fd9e-4ae5-8a45-d660eaf9e061",
   "metadata": {
    "execution": {
     "iopub.execute_input": "2024-11-03T14:45:17.853694Z",
     "iopub.status.busy": "2024-11-03T14:45:17.853059Z",
     "iopub.status.idle": "2024-11-03T14:45:17.867198Z",
     "shell.execute_reply": "2024-11-03T14:45:17.865023Z",
     "shell.execute_reply.started": "2024-11-03T14:45:17.853650Z"
    }
   },
   "outputs": [
    {
     "data": {
      "text/plain": [
       "0.6371456462050978"
      ]
     },
     "execution_count": 16,
     "metadata": {},
     "output_type": "execute_result"
    }
   ],
   "source": [
    "0.99 * np.log(1/0.5) + 0.01 * np.log(1/0.5) - (0.99 * np.log(1/0.99) + 0.01 * np.log(1/0.01))"
   ]
  },
  {
   "cell_type": "markdown",
   "id": "7b8958d5-1b86-402e-84a3-a10782a1707d",
   "metadata": {},
   "source": [
    "### deep learning"
   ]
  },
  {
   "cell_type": "markdown",
   "id": "1e5eb1b5-1cc9-4a69-85a8-0cc77b187a71",
   "metadata": {},
   "source": [
    "- target distribution (is unknown, $P$) vs. model's approximation ($Q$)\n",
    "- objective\n",
    "\n",
    "$$\n",
    "\\min_Q D_{KL}(P_{data},P_{model})=H(P,Q)-H(P)\n",
    "$$\n",
    "\n",
    "- 对 $Q$ 进行优化时，$H(P)$ is constant (entropy of training data)"
   ]
  },
  {
   "cell_type": "code",
   "execution_count": 18,
   "id": "12ad562f-b81a-410c-936e-1f93505ced13",
   "metadata": {
    "execution": {
     "iopub.execute_input": "2024-11-03T14:52:50.043992Z",
     "iopub.status.busy": "2024-11-03T14:52:50.043370Z",
     "iopub.status.idle": "2024-11-03T14:52:50.056683Z",
     "shell.execute_reply": "2024-11-03T14:52:50.054348Z",
     "shell.execute_reply.started": "2024-11-03T14:52:50.043943Z"
    }
   },
   "outputs": [
    {
     "data": {
      "text/html": [
       "<img src=\"./imgs/cross-entropy-loss.png\" width=\"400\"/>"
      ],
      "text/plain": [
       "<IPython.core.display.Image object>"
      ]
     },
     "execution_count": 18,
     "metadata": {},
     "output_type": "execute_result"
    }
   ],
   "source": [
    "Image(url='./imgs/cross-entropy-loss.png', width=400)"
   ]
  }
 ],
 "metadata": {
  "kernelspec": {
   "display_name": "Python 3 (ipykernel)",
   "language": "python",
   "name": "python3"
  },
  "language_info": {
   "codemirror_mode": {
    "name": "ipython",
    "version": 3
   },
   "file_extension": ".py",
   "mimetype": "text/x-python",
   "name": "python",
   "nbconvert_exporter": "python",
   "pygments_lexer": "ipython3",
   "version": "3.10.13"
  }
 },
 "nbformat": 4,
 "nbformat_minor": 5
}
